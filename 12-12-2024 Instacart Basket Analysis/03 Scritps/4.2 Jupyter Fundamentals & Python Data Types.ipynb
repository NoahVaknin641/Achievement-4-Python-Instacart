{
 "cells": [
  {
   "cell_type": "markdown",
   "id": "1f559274-108f-47f8-a78e-59d2e85f41c7",
   "metadata": {},
   "source": [
    "# 4.2: Jupyter Fundamentals & Python Data Types#"
   ]
  },
  {
   "cell_type": "code",
   "execution_count": 24,
   "id": "c0094dc5-608f-4783-97e7-692675844f46",
   "metadata": {},
   "outputs": [],
   "source": [
    "import pandas as pd\n",
    "import numpy as np\n",
    "import os\n",
    "# package importation"
   ]
  },
  {
   "cell_type": "markdown",
   "id": "0ed386a7-b141-48a1-902d-6bc6e0b84492",
   "metadata": {},
   "source": [
    "### Working with Python Data types ###"
   ]
  },
  {
   "cell_type": "code",
   "execution_count": 27,
   "id": "88fff0c7-9fec-4b12-80dc-0f1cdcae690f",
   "metadata": {},
   "outputs": [
    {
     "data": {
      "text/plain": [
       "100"
      ]
     },
     "execution_count": 27,
     "metadata": {},
     "output_type": "execute_result"
    }
   ],
   "source": [
    "x = 60\n",
    "y = 40\n",
    "x+y"
   ]
  },
  {
   "cell_type": "code",
   "execution_count": 29,
   "id": "608cfeb9-bce2-4275-9b68-cd352b7f4d13",
   "metadata": {},
   "outputs": [
    {
     "data": {
      "text/plain": [
       "100"
      ]
     },
     "execution_count": 29,
     "metadata": {},
     "output_type": "execute_result"
    }
   ],
   "source": [
    "z =110\n",
    "x = 10\n",
    "z-x"
   ]
  },
  {
   "cell_type": "code",
   "execution_count": 31,
   "id": "29fc3665-4b6a-4292-9d62-195c4c5ecbfb",
   "metadata": {},
   "outputs": [
    {
     "data": {
      "text/plain": [
       "100"
      ]
     },
     "execution_count": 31,
     "metadata": {},
     "output_type": "execute_result"
    }
   ],
   "source": [
    "a = 10\n",
    "b = 50\n",
    "c = 40\n",
    "a+b+c"
   ]
  },
  {
   "cell_type": "code",
   "execution_count": 33,
   "id": "a5927392-f0bf-4c0e-97ed-f2ba933dea00",
   "metadata": {},
   "outputs": [
    {
     "data": {
      "text/plain": [
       "2.564600448095594"
      ]
     },
     "execution_count": 33,
     "metadata": {},
     "output_type": "execute_result"
    }
   ],
   "source": [
    "w = 6.868\n",
    "v = 2.678\n",
    "w/v"
   ]
  },
  {
   "cell_type": "code",
   "execution_count": 35,
   "id": "4400c90d-a4e9-487c-82af-219f88d9ebf6",
   "metadata": {},
   "outputs": [
    {
     "data": {
      "text/plain": [
       "'pie'"
      ]
     },
     "execution_count": 35,
     "metadata": {},
     "output_type": "execute_result"
    }
   ],
   "source": [
    "m = 'p'\n",
    "n = 'ie'\n",
    "m+n"
   ]
  },
  {
   "cell_type": "code",
   "execution_count": 39,
   "id": "34ee79b0-47ad-49b2-ac09-fbf372beb427",
   "metadata": {},
   "outputs": [
    {
     "data": {
      "text/plain": [
       "'I love to code'"
      ]
     },
     "execution_count": 39,
     "metadata": {},
     "output_type": "execute_result"
    }
   ],
   "source": [
    "e = 'I love'\n",
    "f = ' to code'\n",
    "e+f"
   ]
  },
  {
   "cell_type": "code",
   "execution_count": null,
   "id": "8dd04b88-8d88-4892-b1ad-7fc9ebd0d947",
   "metadata": {},
   "outputs": [],
   "source": []
  }
 ],
 "metadata": {
  "kernelspec": {
   "display_name": "Python [conda env:base] *",
   "language": "python",
   "name": "conda-base-py"
  },
  "language_info": {
   "codemirror_mode": {
    "name": "ipython",
    "version": 3
   },
   "file_extension": ".py",
   "mimetype": "text/x-python",
   "name": "python",
   "nbconvert_exporter": "python",
   "pygments_lexer": "ipython3",
   "version": "3.12.7"
  }
 },
 "nbformat": 4,
 "nbformat_minor": 5
}
